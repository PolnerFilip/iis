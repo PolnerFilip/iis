{
 "cells": [
  {
   "cell_type": "code",
   "id": "initial_id",
   "metadata": {
    "collapsed": true,
    "jupyter": {
     "outputs_hidden": true
    },
    "ExecuteTime": {
     "end_time": "2024-03-16T13:11:30.216859Z",
     "start_time": "2024-03-16T13:11:30.206859Z"
    }
   },
   "source": [
    "from src.utils.paths import DATA_DIR\n",
    "import pandas as pd\n",
    "from sklearn.preprocessing import MinMaxScaler"
   ],
   "outputs": [],
   "execution_count": 14
  },
  {
   "cell_type": "code",
   "id": "e52920cdeb07eea1",
   "metadata": {
    "ExecuteTime": {
     "end_time": "2024-03-16T13:11:30.419860Z",
     "start_time": "2024-03-16T13:11:30.338861Z"
    }
   },
   "source": [
    "df = pd.read_csv(f'{DATA_DIR}/train.csv', index_col=0)\n",
    "df"
   ],
   "outputs": [
    {
     "data": {
      "text/plain": [
       "                            date  temperature  relative_humidity  dew_point  \\\n",
       "0      2023-06-25 19:07:30+00:00         25.1                 45       12.4   \n",
       "1      2023-06-25 20:25:41+00:00         24.2                 43       10.9   \n",
       "2      2023-06-25 20:12:20+00:00         24.2                 43       10.9   \n",
       "3      2023-06-25 19:33:48+00:00         24.2                 43       10.9   \n",
       "4      2023-06-25 19:55:29+00:00         24.2                 43       10.9   \n",
       "...                          ...          ...                ...        ...   \n",
       "18679  2023-10-03 15:23:54+00:00         26.1                 56       16.7   \n",
       "18678  2023-10-03 15:26:03+00:00         26.1                 56       16.7   \n",
       "18683  2023-10-03 14:53:38+00:00         26.1                 56       16.7   \n",
       "18690  2023-10-03 15:34:04+00:00         26.5                 54       16.4   \n",
       "18691  2023-10-03 15:38:08+00:00         26.5                 54       16.4   \n",
       "\n",
       "       apparent_temperature  precipitation_probability  rain  \\\n",
       "0                      24.7                        0.0   0.0   \n",
       "1                      23.3                        NaN   0.0   \n",
       "2                      23.3                        0.0   0.0   \n",
       "3                      23.3                        0.0   0.0   \n",
       "4                      23.3                        NaN   0.0   \n",
       "...                     ...                        ...   ...   \n",
       "18679                  27.8                        0.0   0.0   \n",
       "18678                  27.8                        NaN   0.0   \n",
       "18683                  27.8                        0.0   NaN   \n",
       "18690                  28.1                        0.0   0.0   \n",
       "18691                  28.1                        0.0   NaN   \n",
       "\n",
       "       surface_pressure  bike_stands  available_bike_stands  \n",
       "0                 984.3           22                      8  \n",
       "1                 984.5           22                      8  \n",
       "2                 984.5           22                     12  \n",
       "3                 984.5           22                      7  \n",
       "4                 984.5           22                      8  \n",
       "...                 ...          ...                    ...  \n",
       "18679             986.2           22                     10  \n",
       "18678             986.2           22                     13  \n",
       "18683             986.2           22                     20  \n",
       "18690             985.8           22                     11  \n",
       "18691             985.8           22                     11  \n",
       "\n",
       "[18692 rows x 10 columns]"
      ],
      "text/html": [
       "<div>\n",
       "<style scoped>\n",
       "    .dataframe tbody tr th:only-of-type {\n",
       "        vertical-align: middle;\n",
       "    }\n",
       "\n",
       "    .dataframe tbody tr th {\n",
       "        vertical-align: top;\n",
       "    }\n",
       "\n",
       "    .dataframe thead th {\n",
       "        text-align: right;\n",
       "    }\n",
       "</style>\n",
       "<table border=\"1\" class=\"dataframe\">\n",
       "  <thead>\n",
       "    <tr style=\"text-align: right;\">\n",
       "      <th></th>\n",
       "      <th>date</th>\n",
       "      <th>temperature</th>\n",
       "      <th>relative_humidity</th>\n",
       "      <th>dew_point</th>\n",
       "      <th>apparent_temperature</th>\n",
       "      <th>precipitation_probability</th>\n",
       "      <th>rain</th>\n",
       "      <th>surface_pressure</th>\n",
       "      <th>bike_stands</th>\n",
       "      <th>available_bike_stands</th>\n",
       "    </tr>\n",
       "  </thead>\n",
       "  <tbody>\n",
       "    <tr>\n",
       "      <th>0</th>\n",
       "      <td>2023-06-25 19:07:30+00:00</td>\n",
       "      <td>25.1</td>\n",
       "      <td>45</td>\n",
       "      <td>12.4</td>\n",
       "      <td>24.7</td>\n",
       "      <td>0.0</td>\n",
       "      <td>0.0</td>\n",
       "      <td>984.3</td>\n",
       "      <td>22</td>\n",
       "      <td>8</td>\n",
       "    </tr>\n",
       "    <tr>\n",
       "      <th>1</th>\n",
       "      <td>2023-06-25 20:25:41+00:00</td>\n",
       "      <td>24.2</td>\n",
       "      <td>43</td>\n",
       "      <td>10.9</td>\n",
       "      <td>23.3</td>\n",
       "      <td>NaN</td>\n",
       "      <td>0.0</td>\n",
       "      <td>984.5</td>\n",
       "      <td>22</td>\n",
       "      <td>8</td>\n",
       "    </tr>\n",
       "    <tr>\n",
       "      <th>2</th>\n",
       "      <td>2023-06-25 20:12:20+00:00</td>\n",
       "      <td>24.2</td>\n",
       "      <td>43</td>\n",
       "      <td>10.9</td>\n",
       "      <td>23.3</td>\n",
       "      <td>0.0</td>\n",
       "      <td>0.0</td>\n",
       "      <td>984.5</td>\n",
       "      <td>22</td>\n",
       "      <td>12</td>\n",
       "    </tr>\n",
       "    <tr>\n",
       "      <th>3</th>\n",
       "      <td>2023-06-25 19:33:48+00:00</td>\n",
       "      <td>24.2</td>\n",
       "      <td>43</td>\n",
       "      <td>10.9</td>\n",
       "      <td>23.3</td>\n",
       "      <td>0.0</td>\n",
       "      <td>0.0</td>\n",
       "      <td>984.5</td>\n",
       "      <td>22</td>\n",
       "      <td>7</td>\n",
       "    </tr>\n",
       "    <tr>\n",
       "      <th>4</th>\n",
       "      <td>2023-06-25 19:55:29+00:00</td>\n",
       "      <td>24.2</td>\n",
       "      <td>43</td>\n",
       "      <td>10.9</td>\n",
       "      <td>23.3</td>\n",
       "      <td>NaN</td>\n",
       "      <td>0.0</td>\n",
       "      <td>984.5</td>\n",
       "      <td>22</td>\n",
       "      <td>8</td>\n",
       "    </tr>\n",
       "    <tr>\n",
       "      <th>...</th>\n",
       "      <td>...</td>\n",
       "      <td>...</td>\n",
       "      <td>...</td>\n",
       "      <td>...</td>\n",
       "      <td>...</td>\n",
       "      <td>...</td>\n",
       "      <td>...</td>\n",
       "      <td>...</td>\n",
       "      <td>...</td>\n",
       "      <td>...</td>\n",
       "    </tr>\n",
       "    <tr>\n",
       "      <th>18679</th>\n",
       "      <td>2023-10-03 15:23:54+00:00</td>\n",
       "      <td>26.1</td>\n",
       "      <td>56</td>\n",
       "      <td>16.7</td>\n",
       "      <td>27.8</td>\n",
       "      <td>0.0</td>\n",
       "      <td>0.0</td>\n",
       "      <td>986.2</td>\n",
       "      <td>22</td>\n",
       "      <td>10</td>\n",
       "    </tr>\n",
       "    <tr>\n",
       "      <th>18678</th>\n",
       "      <td>2023-10-03 15:26:03+00:00</td>\n",
       "      <td>26.1</td>\n",
       "      <td>56</td>\n",
       "      <td>16.7</td>\n",
       "      <td>27.8</td>\n",
       "      <td>NaN</td>\n",
       "      <td>0.0</td>\n",
       "      <td>986.2</td>\n",
       "      <td>22</td>\n",
       "      <td>13</td>\n",
       "    </tr>\n",
       "    <tr>\n",
       "      <th>18683</th>\n",
       "      <td>2023-10-03 14:53:38+00:00</td>\n",
       "      <td>26.1</td>\n",
       "      <td>56</td>\n",
       "      <td>16.7</td>\n",
       "      <td>27.8</td>\n",
       "      <td>0.0</td>\n",
       "      <td>NaN</td>\n",
       "      <td>986.2</td>\n",
       "      <td>22</td>\n",
       "      <td>20</td>\n",
       "    </tr>\n",
       "    <tr>\n",
       "      <th>18690</th>\n",
       "      <td>2023-10-03 15:34:04+00:00</td>\n",
       "      <td>26.5</td>\n",
       "      <td>54</td>\n",
       "      <td>16.4</td>\n",
       "      <td>28.1</td>\n",
       "      <td>0.0</td>\n",
       "      <td>0.0</td>\n",
       "      <td>985.8</td>\n",
       "      <td>22</td>\n",
       "      <td>11</td>\n",
       "    </tr>\n",
       "    <tr>\n",
       "      <th>18691</th>\n",
       "      <td>2023-10-03 15:38:08+00:00</td>\n",
       "      <td>26.5</td>\n",
       "      <td>54</td>\n",
       "      <td>16.4</td>\n",
       "      <td>28.1</td>\n",
       "      <td>0.0</td>\n",
       "      <td>NaN</td>\n",
       "      <td>985.8</td>\n",
       "      <td>22</td>\n",
       "      <td>11</td>\n",
       "    </tr>\n",
       "  </tbody>\n",
       "</table>\n",
       "<p>18692 rows × 10 columns</p>\n",
       "</div>"
      ]
     },
     "execution_count": 15,
     "metadata": {},
     "output_type": "execute_result"
    }
   ],
   "execution_count": 15
  },
  {
   "cell_type": "markdown",
   "id": "41209079a5a5af0c",
   "metadata": {},
   "source": [
    "### Preprocess data"
   ]
  },
  {
   "cell_type": "code",
   "id": "f9b71310a9735cab",
   "metadata": {
    "ExecuteTime": {
     "end_time": "2024-03-16T13:11:30.434861Z",
     "start_time": "2024-03-16T13:11:30.422860Z"
    }
   },
   "source": [
    "df.drop(columns=['bike_stands', 'date'], inplace=True)"
   ],
   "outputs": [],
   "execution_count": 16
  },
  {
   "cell_type": "code",
   "id": "611f7e7f8aedc234",
   "metadata": {
    "ExecuteTime": {
     "end_time": "2024-03-16T13:11:30.465860Z",
     "start_time": "2024-03-16T13:11:30.451859Z"
    }
   },
   "source": [
    "TARGET_COL = 'available_bike_stands'"
   ],
   "outputs": [],
   "execution_count": 17
  },
  {
   "cell_type": "code",
   "id": "38dfa55bf78af1fa",
   "metadata": {
    "ExecuteTime": {
     "end_time": "2024-03-16T13:11:30.543859Z",
     "start_time": "2024-03-16T13:11:30.525860Z"
    }
   },
   "source": [
    "missing = df.isnull().sum()\n",
    "missing"
   ],
   "outputs": [
    {
     "data": {
      "text/plain": [
       "temperature                  1869\n",
       "relative_humidity               0\n",
       "dew_point                       0\n",
       "apparent_temperature            0\n",
       "precipitation_probability    1308\n",
       "rain                         2804\n",
       "surface_pressure                0\n",
       "available_bike_stands           0\n",
       "dtype: int64"
      ]
     },
     "execution_count": 18,
     "metadata": {},
     "output_type": "execute_result"
    }
   ],
   "execution_count": 18
  },
  {
   "cell_type": "code",
   "id": "50204c1f391a1ea5",
   "metadata": {
    "ExecuteTime": {
     "end_time": "2024-03-16T13:11:30.637862Z",
     "start_time": "2024-03-16T13:11:30.609859Z"
    }
   },
   "source": [
    "numeric_cols = df.select_dtypes(include='number').columns\n",
    "# df[numeric_cols] = df[numeric_cols].fillna(df[numeric_cols].mean())\n",
    "df.fillna(df.mean(), inplace=True)\n",
    "df"
   ],
   "outputs": [
    {
     "data": {
      "text/plain": [
       "       temperature  relative_humidity  dew_point  apparent_temperature  \\\n",
       "0             25.1                 45       12.4                  24.7   \n",
       "1             24.2                 43       10.9                  23.3   \n",
       "2             24.2                 43       10.9                  23.3   \n",
       "3             24.2                 43       10.9                  23.3   \n",
       "4             24.2                 43       10.9                  23.3   \n",
       "...            ...                ...        ...                   ...   \n",
       "18679         26.1                 56       16.7                  27.8   \n",
       "18678         26.1                 56       16.7                  27.8   \n",
       "18683         26.1                 56       16.7                  27.8   \n",
       "18690         26.5                 54       16.4                  28.1   \n",
       "18691         26.5                 54       16.4                  28.1   \n",
       "\n",
       "       precipitation_probability      rain  surface_pressure  \\\n",
       "0                       0.000000  0.000000             984.3   \n",
       "1                      20.173608  0.000000             984.5   \n",
       "2                       0.000000  0.000000             984.5   \n",
       "3                       0.000000  0.000000             984.5   \n",
       "4                      20.173608  0.000000             984.5   \n",
       "...                          ...       ...               ...   \n",
       "18679                   0.000000  0.000000             986.2   \n",
       "18678                  20.173608  0.000000             986.2   \n",
       "18683                   0.000000  0.147677             986.2   \n",
       "18690                   0.000000  0.000000             985.8   \n",
       "18691                   0.000000  0.147677             985.8   \n",
       "\n",
       "       available_bike_stands  \n",
       "0                          8  \n",
       "1                          8  \n",
       "2                         12  \n",
       "3                          7  \n",
       "4                          8  \n",
       "...                      ...  \n",
       "18679                     10  \n",
       "18678                     13  \n",
       "18683                     20  \n",
       "18690                     11  \n",
       "18691                     11  \n",
       "\n",
       "[18692 rows x 8 columns]"
      ],
      "text/html": [
       "<div>\n",
       "<style scoped>\n",
       "    .dataframe tbody tr th:only-of-type {\n",
       "        vertical-align: middle;\n",
       "    }\n",
       "\n",
       "    .dataframe tbody tr th {\n",
       "        vertical-align: top;\n",
       "    }\n",
       "\n",
       "    .dataframe thead th {\n",
       "        text-align: right;\n",
       "    }\n",
       "</style>\n",
       "<table border=\"1\" class=\"dataframe\">\n",
       "  <thead>\n",
       "    <tr style=\"text-align: right;\">\n",
       "      <th></th>\n",
       "      <th>temperature</th>\n",
       "      <th>relative_humidity</th>\n",
       "      <th>dew_point</th>\n",
       "      <th>apparent_temperature</th>\n",
       "      <th>precipitation_probability</th>\n",
       "      <th>rain</th>\n",
       "      <th>surface_pressure</th>\n",
       "      <th>available_bike_stands</th>\n",
       "    </tr>\n",
       "  </thead>\n",
       "  <tbody>\n",
       "    <tr>\n",
       "      <th>0</th>\n",
       "      <td>25.1</td>\n",
       "      <td>45</td>\n",
       "      <td>12.4</td>\n",
       "      <td>24.7</td>\n",
       "      <td>0.000000</td>\n",
       "      <td>0.000000</td>\n",
       "      <td>984.3</td>\n",
       "      <td>8</td>\n",
       "    </tr>\n",
       "    <tr>\n",
       "      <th>1</th>\n",
       "      <td>24.2</td>\n",
       "      <td>43</td>\n",
       "      <td>10.9</td>\n",
       "      <td>23.3</td>\n",
       "      <td>20.173608</td>\n",
       "      <td>0.000000</td>\n",
       "      <td>984.5</td>\n",
       "      <td>8</td>\n",
       "    </tr>\n",
       "    <tr>\n",
       "      <th>2</th>\n",
       "      <td>24.2</td>\n",
       "      <td>43</td>\n",
       "      <td>10.9</td>\n",
       "      <td>23.3</td>\n",
       "      <td>0.000000</td>\n",
       "      <td>0.000000</td>\n",
       "      <td>984.5</td>\n",
       "      <td>12</td>\n",
       "    </tr>\n",
       "    <tr>\n",
       "      <th>3</th>\n",
       "      <td>24.2</td>\n",
       "      <td>43</td>\n",
       "      <td>10.9</td>\n",
       "      <td>23.3</td>\n",
       "      <td>0.000000</td>\n",
       "      <td>0.000000</td>\n",
       "      <td>984.5</td>\n",
       "      <td>7</td>\n",
       "    </tr>\n",
       "    <tr>\n",
       "      <th>4</th>\n",
       "      <td>24.2</td>\n",
       "      <td>43</td>\n",
       "      <td>10.9</td>\n",
       "      <td>23.3</td>\n",
       "      <td>20.173608</td>\n",
       "      <td>0.000000</td>\n",
       "      <td>984.5</td>\n",
       "      <td>8</td>\n",
       "    </tr>\n",
       "    <tr>\n",
       "      <th>...</th>\n",
       "      <td>...</td>\n",
       "      <td>...</td>\n",
       "      <td>...</td>\n",
       "      <td>...</td>\n",
       "      <td>...</td>\n",
       "      <td>...</td>\n",
       "      <td>...</td>\n",
       "      <td>...</td>\n",
       "    </tr>\n",
       "    <tr>\n",
       "      <th>18679</th>\n",
       "      <td>26.1</td>\n",
       "      <td>56</td>\n",
       "      <td>16.7</td>\n",
       "      <td>27.8</td>\n",
       "      <td>0.000000</td>\n",
       "      <td>0.000000</td>\n",
       "      <td>986.2</td>\n",
       "      <td>10</td>\n",
       "    </tr>\n",
       "    <tr>\n",
       "      <th>18678</th>\n",
       "      <td>26.1</td>\n",
       "      <td>56</td>\n",
       "      <td>16.7</td>\n",
       "      <td>27.8</td>\n",
       "      <td>20.173608</td>\n",
       "      <td>0.000000</td>\n",
       "      <td>986.2</td>\n",
       "      <td>13</td>\n",
       "    </tr>\n",
       "    <tr>\n",
       "      <th>18683</th>\n",
       "      <td>26.1</td>\n",
       "      <td>56</td>\n",
       "      <td>16.7</td>\n",
       "      <td>27.8</td>\n",
       "      <td>0.000000</td>\n",
       "      <td>0.147677</td>\n",
       "      <td>986.2</td>\n",
       "      <td>20</td>\n",
       "    </tr>\n",
       "    <tr>\n",
       "      <th>18690</th>\n",
       "      <td>26.5</td>\n",
       "      <td>54</td>\n",
       "      <td>16.4</td>\n",
       "      <td>28.1</td>\n",
       "      <td>0.000000</td>\n",
       "      <td>0.000000</td>\n",
       "      <td>985.8</td>\n",
       "      <td>11</td>\n",
       "    </tr>\n",
       "    <tr>\n",
       "      <th>18691</th>\n",
       "      <td>26.5</td>\n",
       "      <td>54</td>\n",
       "      <td>16.4</td>\n",
       "      <td>28.1</td>\n",
       "      <td>0.000000</td>\n",
       "      <td>0.147677</td>\n",
       "      <td>985.8</td>\n",
       "      <td>11</td>\n",
       "    </tr>\n",
       "  </tbody>\n",
       "</table>\n",
       "<p>18692 rows × 8 columns</p>\n",
       "</div>"
      ]
     },
     "execution_count": 19,
     "metadata": {},
     "output_type": "execute_result"
    }
   ],
   "execution_count": 19
  },
  {
   "cell_type": "code",
   "id": "298f5c7001ca07ad",
   "metadata": {
    "ExecuteTime": {
     "end_time": "2024-03-16T13:11:30.809860Z",
     "start_time": "2024-03-16T13:11:30.799859Z"
    }
   },
   "source": [
    "TARGET_COL_INDEX = df.columns.get_loc(TARGET_COL)"
   ],
   "outputs": [],
   "execution_count": 20
  },
  {
   "cell_type": "code",
   "id": "5130181009f9aec3",
   "metadata": {
    "ExecuteTime": {
     "end_time": "2024-03-16T13:11:30.934858Z",
     "start_time": "2024-03-16T13:11:30.921863Z"
    }
   },
   "source": [
    "from typing import Tuple, List\n",
    "\n",
    "def train_test_split(data: pd.DataFrame, test_size: float) -> Tuple[pd.DataFrame, pd.DataFrame]:\n",
    "    test_size = int(len(data) * test_size)\n",
    "    return data.iloc[:-test_size], data.iloc[-test_size:]"
   ],
   "outputs": [],
   "execution_count": 21
  },
  {
   "cell_type": "code",
   "id": "ecf408c493ae8fd2",
   "metadata": {
    "ExecuteTime": {
     "end_time": "2024-03-16T13:11:31.057860Z",
     "start_time": "2024-03-16T13:11:31.048861Z"
    }
   },
   "source": [
    "train, test = train_test_split(df, 0.2)"
   ],
   "outputs": [],
   "execution_count": 22
  },
  {
   "cell_type": "code",
   "id": "45c15467e988f3e8",
   "metadata": {
    "ExecuteTime": {
     "end_time": "2024-03-16T13:11:31.291860Z",
     "start_time": "2024-03-16T13:11:31.249862Z"
    }
   },
   "source": [
    "scaler = MinMaxScaler()\n",
    "train = scaler.fit_transform(train)\n",
    "test = scaler.transform(test)\n",
    "# df[numeric_cols] = scaler.fit_transform(df[numeric_cols])\n",
    "# df = scaler.fit_transform(df)\n",
    "# df\n",
    "df"
   ],
   "outputs": [
    {
     "data": {
      "text/plain": [
       "       temperature  relative_humidity  dew_point  apparent_temperature  \\\n",
       "0             25.1                 45       12.4                  24.7   \n",
       "1             24.2                 43       10.9                  23.3   \n",
       "2             24.2                 43       10.9                  23.3   \n",
       "3             24.2                 43       10.9                  23.3   \n",
       "4             24.2                 43       10.9                  23.3   \n",
       "...            ...                ...        ...                   ...   \n",
       "18679         26.1                 56       16.7                  27.8   \n",
       "18678         26.1                 56       16.7                  27.8   \n",
       "18683         26.1                 56       16.7                  27.8   \n",
       "18690         26.5                 54       16.4                  28.1   \n",
       "18691         26.5                 54       16.4                  28.1   \n",
       "\n",
       "       precipitation_probability      rain  surface_pressure  \\\n",
       "0                       0.000000  0.000000             984.3   \n",
       "1                      20.173608  0.000000             984.5   \n",
       "2                       0.000000  0.000000             984.5   \n",
       "3                       0.000000  0.000000             984.5   \n",
       "4                      20.173608  0.000000             984.5   \n",
       "...                          ...       ...               ...   \n",
       "18679                   0.000000  0.000000             986.2   \n",
       "18678                  20.173608  0.000000             986.2   \n",
       "18683                   0.000000  0.147677             986.2   \n",
       "18690                   0.000000  0.000000             985.8   \n",
       "18691                   0.000000  0.147677             985.8   \n",
       "\n",
       "       available_bike_stands  \n",
       "0                          8  \n",
       "1                          8  \n",
       "2                         12  \n",
       "3                          7  \n",
       "4                          8  \n",
       "...                      ...  \n",
       "18679                     10  \n",
       "18678                     13  \n",
       "18683                     20  \n",
       "18690                     11  \n",
       "18691                     11  \n",
       "\n",
       "[18692 rows x 8 columns]"
      ],
      "text/html": [
       "<div>\n",
       "<style scoped>\n",
       "    .dataframe tbody tr th:only-of-type {\n",
       "        vertical-align: middle;\n",
       "    }\n",
       "\n",
       "    .dataframe tbody tr th {\n",
       "        vertical-align: top;\n",
       "    }\n",
       "\n",
       "    .dataframe thead th {\n",
       "        text-align: right;\n",
       "    }\n",
       "</style>\n",
       "<table border=\"1\" class=\"dataframe\">\n",
       "  <thead>\n",
       "    <tr style=\"text-align: right;\">\n",
       "      <th></th>\n",
       "      <th>temperature</th>\n",
       "      <th>relative_humidity</th>\n",
       "      <th>dew_point</th>\n",
       "      <th>apparent_temperature</th>\n",
       "      <th>precipitation_probability</th>\n",
       "      <th>rain</th>\n",
       "      <th>surface_pressure</th>\n",
       "      <th>available_bike_stands</th>\n",
       "    </tr>\n",
       "  </thead>\n",
       "  <tbody>\n",
       "    <tr>\n",
       "      <th>0</th>\n",
       "      <td>25.1</td>\n",
       "      <td>45</td>\n",
       "      <td>12.4</td>\n",
       "      <td>24.7</td>\n",
       "      <td>0.000000</td>\n",
       "      <td>0.000000</td>\n",
       "      <td>984.3</td>\n",
       "      <td>8</td>\n",
       "    </tr>\n",
       "    <tr>\n",
       "      <th>1</th>\n",
       "      <td>24.2</td>\n",
       "      <td>43</td>\n",
       "      <td>10.9</td>\n",
       "      <td>23.3</td>\n",
       "      <td>20.173608</td>\n",
       "      <td>0.000000</td>\n",
       "      <td>984.5</td>\n",
       "      <td>8</td>\n",
       "    </tr>\n",
       "    <tr>\n",
       "      <th>2</th>\n",
       "      <td>24.2</td>\n",
       "      <td>43</td>\n",
       "      <td>10.9</td>\n",
       "      <td>23.3</td>\n",
       "      <td>0.000000</td>\n",
       "      <td>0.000000</td>\n",
       "      <td>984.5</td>\n",
       "      <td>12</td>\n",
       "    </tr>\n",
       "    <tr>\n",
       "      <th>3</th>\n",
       "      <td>24.2</td>\n",
       "      <td>43</td>\n",
       "      <td>10.9</td>\n",
       "      <td>23.3</td>\n",
       "      <td>0.000000</td>\n",
       "      <td>0.000000</td>\n",
       "      <td>984.5</td>\n",
       "      <td>7</td>\n",
       "    </tr>\n",
       "    <tr>\n",
       "      <th>4</th>\n",
       "      <td>24.2</td>\n",
       "      <td>43</td>\n",
       "      <td>10.9</td>\n",
       "      <td>23.3</td>\n",
       "      <td>20.173608</td>\n",
       "      <td>0.000000</td>\n",
       "      <td>984.5</td>\n",
       "      <td>8</td>\n",
       "    </tr>\n",
       "    <tr>\n",
       "      <th>...</th>\n",
       "      <td>...</td>\n",
       "      <td>...</td>\n",
       "      <td>...</td>\n",
       "      <td>...</td>\n",
       "      <td>...</td>\n",
       "      <td>...</td>\n",
       "      <td>...</td>\n",
       "      <td>...</td>\n",
       "    </tr>\n",
       "    <tr>\n",
       "      <th>18679</th>\n",
       "      <td>26.1</td>\n",
       "      <td>56</td>\n",
       "      <td>16.7</td>\n",
       "      <td>27.8</td>\n",
       "      <td>0.000000</td>\n",
       "      <td>0.000000</td>\n",
       "      <td>986.2</td>\n",
       "      <td>10</td>\n",
       "    </tr>\n",
       "    <tr>\n",
       "      <th>18678</th>\n",
       "      <td>26.1</td>\n",
       "      <td>56</td>\n",
       "      <td>16.7</td>\n",
       "      <td>27.8</td>\n",
       "      <td>20.173608</td>\n",
       "      <td>0.000000</td>\n",
       "      <td>986.2</td>\n",
       "      <td>13</td>\n",
       "    </tr>\n",
       "    <tr>\n",
       "      <th>18683</th>\n",
       "      <td>26.1</td>\n",
       "      <td>56</td>\n",
       "      <td>16.7</td>\n",
       "      <td>27.8</td>\n",
       "      <td>0.000000</td>\n",
       "      <td>0.147677</td>\n",
       "      <td>986.2</td>\n",
       "      <td>20</td>\n",
       "    </tr>\n",
       "    <tr>\n",
       "      <th>18690</th>\n",
       "      <td>26.5</td>\n",
       "      <td>54</td>\n",
       "      <td>16.4</td>\n",
       "      <td>28.1</td>\n",
       "      <td>0.000000</td>\n",
       "      <td>0.000000</td>\n",
       "      <td>985.8</td>\n",
       "      <td>11</td>\n",
       "    </tr>\n",
       "    <tr>\n",
       "      <th>18691</th>\n",
       "      <td>26.5</td>\n",
       "      <td>54</td>\n",
       "      <td>16.4</td>\n",
       "      <td>28.1</td>\n",
       "      <td>0.000000</td>\n",
       "      <td>0.147677</td>\n",
       "      <td>985.8</td>\n",
       "      <td>11</td>\n",
       "    </tr>\n",
       "  </tbody>\n",
       "</table>\n",
       "<p>18692 rows × 8 columns</p>\n",
       "</div>"
      ]
     },
     "execution_count": 23,
     "metadata": {},
     "output_type": "execute_result"
    }
   ],
   "execution_count": 23
  },
  {
   "cell_type": "markdown",
   "id": "6d0987e8391053ad",
   "metadata": {},
   "source": [
    "### Prepare time series"
   ]
  },
  {
   "cell_type": "code",
   "id": "38b2613894c48094",
   "metadata": {
    "ExecuteTime": {
     "end_time": "2024-03-16T13:11:31.416859Z",
     "start_time": "2024-03-16T13:11:31.406860Z"
    }
   },
   "source": [
    "import numpy as np\n",
    "\n",
    "def create_time_series(data: pd.DataFrame, window_size: int, target_col_index: int) -> Tuple[np.array, np.array]:\n",
    "    X, y = [], []\n",
    "    for i in range(len(data) - window_size - 1):\n",
    "        X.append(data[i:i+window_size])\n",
    "        y.append(data[i+window_size, target_col_index])\n",
    "    return np.array(X), np.array(y)"
   ],
   "outputs": [],
   "execution_count": 24
  },
  {
   "cell_type": "code",
   "id": "b5d2a5af50eed373",
   "metadata": {
    "ExecuteTime": {
     "end_time": "2024-03-16T13:11:31.573860Z",
     "start_time": "2024-03-16T13:11:31.497859Z"
    }
   },
   "source": [
    "# train, test = train_test_split(df, 0.2)\n",
    "X_train, y_train = create_time_series(train, 48, TARGET_COL_INDEX)\n",
    "X_test, y_test = create_time_series(test, 48, TARGET_COL_INDEX)\n",
    "X_train.shape, y_train.shape, X_test.shape, y_test.shape"
   ],
   "outputs": [
    {
     "data": {
      "text/plain": [
       "((14905, 48, 8), (14905,), (3689, 48, 8), (3689,))"
      ]
     },
     "execution_count": 25,
     "metadata": {},
     "output_type": "execute_result"
    }
   ],
   "execution_count": 25
  },
  {
   "cell_type": "markdown",
   "id": "19150d8867467802",
   "metadata": {},
   "source": [
    "### Prepare model"
   ]
  },
  {
   "cell_type": "code",
   "id": "a4a2f92ee7782b2",
   "metadata": {
    "ExecuteTime": {
     "end_time": "2024-03-16T13:11:42.219858Z",
     "start_time": "2024-03-16T13:11:31.650860Z"
    }
   },
   "source": [
    "from keras.layers import GRU, Dense, Dropout, BatchNormalization\n",
    "from keras import Sequential\n",
    "\n",
    "def create_model(input_shape: Tuple[int, int]) -> Sequential:\n",
    "    model = Sequential([\n",
    "        GRU(128, return_sequences=True, input_shape=input_shape),\n",
    "        Dropout(0.2),\n",
    "        GRU(64, return_sequences=True),\n",
    "        Dropout(0.2),\n",
    "        GRU(32),\n",
    "        BatchNormalization(),\n",
    "        Dense(32, activation='relu'),\n",
    "        Dense(1)\n",
    "    ])\n",
    "    model.compile(optimizer='adam', loss='mean_squared_error')\n",
    "    return model"
   ],
   "outputs": [],
   "execution_count": 26
  },
  {
   "cell_type": "code",
   "id": "1c9c96d6e57ac11a",
   "metadata": {
    "ExecuteTime": {
     "end_time": "2024-03-16T13:11:42.827858Z",
     "start_time": "2024-03-16T13:11:42.221860Z"
    }
   },
   "source": [
    "model = create_model((X_train.shape[1], X_train.shape[2]))"
   ],
   "outputs": [],
   "execution_count": 27
  },
  {
   "cell_type": "code",
   "id": "ab0c5caa128790a3",
   "metadata": {
    "ExecuteTime": {
     "end_time": "2024-03-16T13:16:30.416858Z",
     "start_time": "2024-03-16T13:11:42.828858Z"
    }
   },
   "source": [
    "model.fit(X_train, y_train, epochs=10, batch_size=32, validation_data=(X_test, y_test))"
   ],
   "outputs": [
    {
     "name": "stdout",
     "output_type": "stream",
     "text": [
      "Epoch 1/10\n",
      "466/466 [==============================] - 33s 63ms/step - loss: 0.0425 - val_loss: 0.0164\n",
      "Epoch 2/10\n",
      "466/466 [==============================] - 29s 62ms/step - loss: 0.0169 - val_loss: 0.0148\n",
      "Epoch 3/10\n",
      "466/466 [==============================] - 28s 60ms/step - loss: 0.0137 - val_loss: 0.0160\n",
      "Epoch 4/10\n",
      "466/466 [==============================] - 27s 59ms/step - loss: 0.0122 - val_loss: 0.0131\n",
      "Epoch 5/10\n",
      "466/466 [==============================] - 27s 59ms/step - loss: 0.0115 - val_loss: 0.0145\n",
      "Epoch 6/10\n",
      "466/466 [==============================] - 28s 59ms/step - loss: 0.0106 - val_loss: 0.0120\n",
      "Epoch 7/10\n",
      "466/466 [==============================] - 28s 61ms/step - loss: 0.0100 - val_loss: 0.0161\n",
      "Epoch 8/10\n",
      "466/466 [==============================] - 29s 62ms/step - loss: 0.0094 - val_loss: 0.0128\n",
      "Epoch 9/10\n",
      "466/466 [==============================] - 29s 63ms/step - loss: 0.0096 - val_loss: 0.0154\n",
      "Epoch 10/10\n",
      "466/466 [==============================] - 29s 62ms/step - loss: 0.0090 - val_loss: 0.0113\n"
     ]
    },
    {
     "data": {
      "text/plain": [
       "<keras.callbacks.History at 0x1a3a82f2a00>"
      ]
     },
     "execution_count": 28,
     "metadata": {},
     "output_type": "execute_result"
    }
   ],
   "execution_count": 28
  },
  {
   "metadata": {},
   "cell_type": "code",
   "outputs": [],
   "execution_count": null,
   "source": "model.save('gru_model.keras')",
   "id": "bc5b607ac4fd31d4"
  }
 ],
 "metadata": {
  "kernelspec": {
   "display_name": "Python 3 (ipykernel)",
   "language": "python",
   "name": "python3"
  },
  "language_info": {
   "codemirror_mode": {
    "name": "ipython",
    "version": 3
   },
   "file_extension": ".py",
   "mimetype": "text/x-python",
   "name": "python",
   "nbconvert_exporter": "python",
   "pygments_lexer": "ipython3",
   "version": "3.9.13"
  }
 },
 "nbformat": 4,
 "nbformat_minor": 5
}
